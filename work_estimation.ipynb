{
 "cells": [
  {
   "cell_type": "code",
   "execution_count": 4,
   "metadata": {},
   "outputs": [],
   "source": [
    "import networkx as nx\n",
    "import matplotlib.pyplot as plt\n",
    "import pandas as pd\n",
    "import numpy as np\n",
    "import scipy.stats as stats\n",
    "\n",
    "import graph_factory\n",
    "import work_emulator\n",
    "import normal_distribution_printer\n",
    "import monte_carlo_simulation\n",
    "import data_preprocessing\n",
    "\n",
    "%matplotlib inline"
   ]
  },
  {
   "cell_type": "code",
   "execution_count": 5,
   "metadata": {},
   "outputs": [],
   "source": [
    "df = pd.read_csv('tasks.csv', encoding = \"ISO-8859-1\")\n",
    "df1 = df.replace(np.nan, '', regex=True)"
   ]
  },
  {
   "cell_type": "code",
   "execution_count": 6,
   "metadata": {},
   "outputs": [
    {
     "name": "stderr",
     "output_type": "stream",
     "text": [
      "/Users/aleksey/Main/work_stuff/Python/VirtualEnvs/MachineLeaning/lib/python3.6/site-packages/pandas/core/generic.py:4401: SettingWithCopyWarning: \n",
      "A value is trying to be set on a copy of a slice from a DataFrame.\n",
      "Try using .loc[row_indexer,col_indexer] = value instead\n",
      "\n",
      "See the caveats in the documentation: http://pandas.pydata.org/pandas-docs/stable/indexing.html#indexing-view-versus-copy\n",
      "  self[name] = value\n"
     ]
    }
   ],
   "source": [
    "estimated_G = graph_factory.build_graph(data_preprocessing.filter_estimated_tasks(df))\n",
    "\n",
    "estimated_df = data_preprocessing.prepare_data_for_calculation_of_normal(df)"
   ]
  },
  {
   "cell_type": "code",
   "execution_count": 7,
   "metadata": {
    "scrolled": true
   },
   "outputs": [
    {
     "name": "stdout",
     "output_type": "stream",
     "text": [
      "set()\n",
      "{'TASK-12', 'TASK-6', 'TASK-5', 'TASK-16', 'TASK-11', 'TASK-17', 'TASK-1'}\n",
      "{'TASK-12', 'TASK-6', 'TASK-5', 'TASK-16', 'TASK-11', 'TASK-17', 'TASK-1'}\n",
      "{'TASK-12', 'TASK-5', 'TASK-16', 'TASK-11', 'TASK-17', 'TASK-1'}\n",
      "{'TASK-5', 'TASK-16', 'TASK-11', 'TASK-1'}\n",
      "{'TASK-5', 'TASK-16', 'TASK-11', 'TASK-1'}\n",
      "{'TASK-5', 'TASK-16', 'TASK-3', 'TASK-2'}\n",
      "{'TASK-5', 'TASK-16', 'TASK-3', 'TASK-2'}\n",
      "{'TASK-5', 'TASK-16', 'TASK-3', 'TASK-2'}\n",
      "{'TASK-19', 'TASK-5', 'TASK-3'}\n",
      "{'TASK-19', 'TASK-5', 'TASK-3'}\n",
      "{'TASK-19', 'TASK-5', 'TASK-3'}\n",
      "{'TASK-5', 'TASK-3'}\n",
      "{'TASK-5', 'TASK-3'}\n",
      "{'TASK-5', 'TASK-4'}\n",
      "{'TASK-5', 'TASK-4'}\n",
      "{'TASK-5', 'TASK-4'}\n",
      "{'TASK-5', 'TASK-4'}\n",
      "{'TASK-5', 'TASK-4'}\n",
      "{'TASK-5', 'TASK-4'}\n",
      "{'TASK-5', 'TASK-4'}\n",
      "{'TASK-13', 'TASK-7', 'TASK-4'}\n",
      "{'TASK-13', 'TASK-7', 'TASK-4'}\n",
      "{'TASK-13', 'TASK-7', 'TASK-4'}\n",
      "{'TASK-13', 'TASK-7', 'TASK-4'}\n",
      "{'TASK-13', 'TASK-7', 'TASK-4'}\n",
      "{'TASK-9', 'TASK-13', 'TASK-8', 'TASK-4'}\n",
      "{'TASK-9', 'TASK-13', 'TASK-8'}\n",
      "{'TASK-9', 'TASK-13', 'TASK-8'}\n",
      "{'TASK-9', 'TASK-8'}\n",
      "{'TASK-9', 'TASK-8'}\n",
      "{'TASK-10', 'TASK-8', 'TASK-18'}\n",
      "{'TASK-10', 'TASK-8', 'TASK-18'}\n",
      "{'TASK-10', 'TASK-8', 'TASK-18'}\n",
      "{'TASK-10', 'TASK-18', 'TASK-14'}\n",
      "{'TASK-10', 'TASK-18', 'TASK-14'}\n",
      "{'TASK-10', 'TASK-14'}\n",
      "{'TASK-10', 'TASK-14'}\n",
      "{'TASK-10', 'TASK-14'}\n",
      "{'TASK-10', 'TASK-14'}\n",
      "{'TASK-10', 'TASK-14'}\n",
      "{'TASK-10', 'TASK-14'}\n",
      "{'TASK-10', 'TASK-14'}\n",
      "{'TASK-10', 'TASK-14'}\n",
      "{'TASK-10', 'TASK-14'}\n",
      "{'TASK-10', 'TASK-14'}\n",
      "{'TASK-10', 'TASK-14'}\n",
      "{'TASK-10', 'TASK-14'}\n",
      "{'TASK-10', 'TASK-14'}\n",
      "{'TASK-10', 'TASK-14'}\n",
      "{'TASK-10', 'TASK-14'}\n",
      "{'TASK-14'}\n",
      "{'TASK-14'}\n",
      "{'TASK-14'}\n",
      "{'TASK-15'}\n",
      "{'TASK-15'}\n",
      "{'TASK-15'}\n",
      "{'TASK-15'}\n",
      "{'TASK-15'}\n",
      "59\n"
     ]
    }
   ],
   "source": [
    "NUMBER_OF_DEVS = 10\n",
    "\n",
    "print(work_emulator.calculate_requered_days(NUMBER_OF_DEVS, estimated_df.values, estimated_G, True))"
   ]
  },
  {
   "cell_type": "code",
   "execution_count": 9,
   "metadata": {},
   "outputs": [
    {
     "name": "stderr",
     "output_type": "stream",
     "text": [
      "/Users/aleksey/Main/work_stuff/Python/VirtualEnvs/MachineLeaning/lib/python3.6/site-packages/pandas/core/indexing.py:630: SettingWithCopyWarning: \n",
      "A value is trying to be set on a copy of a slice from a DataFrame.\n",
      "Try using .loc[row_indexer,col_indexer] = value instead\n",
      "\n",
      "See the caveats in the documentation: http://pandas.pydata.org/pandas-docs/stable/indexing.html#indexing-view-versus-copy\n",
      "  self.obj[item_labels[indexer[info_axis]]] = value\n",
      "/Users/aleksey/Main/work_stuff/Python/VirtualEnvs/MachineLeaning/lib/python3.6/site-packages/pandas/core/indexing.py:543: SettingWithCopyWarning: \n",
      "A value is trying to be set on a copy of a slice from a DataFrame.\n",
      "Try using .loc[row_indexer,col_indexer] = value instead\n",
      "\n",
      "See the caveats in the documentation: http://pandas.pydata.org/pandas-docs/stable/indexing.html#indexing-view-versus-copy\n",
      "  self.obj[item] = s\n"
     ]
    }
   ],
   "source": [
    "full_estimated_df = data_preprocessing.prepare_data_with_all_estimations(df)"
   ]
  },
  {
   "cell_type": "code",
   "execution_count": 10,
   "metadata": {},
   "outputs": [],
   "source": [
    "generations_result = monte_carlo_simulation.run_simulation(NUMBER_OF_DEVS, 100, full_estimated_df, estimated_G)"
   ]
  },
  {
   "cell_type": "code",
   "execution_count": 11,
   "metadata": {},
   "outputs": [],
   "source": [
    "total_mean = np.mean(generations_result)\n",
    "total_std = np.std(generations_result)"
   ]
  },
  {
   "cell_type": "code",
   "execution_count": 13,
   "metadata": {},
   "outputs": [
    {
     "name": "stdout",
     "output_type": "stream",
     "text": [
      "mean = 71.87\n",
      "std = 10.483944868225892\n"
     ]
    },
    {
     "data": {
      "image/png": "[encoded data removed]",
      "text/plain": [
       "<Figure size 864x432 with 1 Axes>"
      ]
     },
     "metadata": {},
     "output_type": "display_data"
    }
   ],
   "source": [
    "normal_distribution_printer.print_normal_cumulative_distribution(total_mean, total_std, 'Total')"
   ]
  },
  {
   "cell_type": "code",
   "execution_count": null,
   "metadata": {},
   "outputs": [],
   "source": []
  }
 ],
 "metadata": {
  "kernelspec": {
   "display_name": "Python 3",
   "language": "python",
   "name": "python3"
  },
  "language_info": {
   "codemirror_mode": {
    "name": "ipython",
    "version": 3
   },
   "file_extension": ".py",
   "mimetype": "text/x-python",
   "name": "python",
   "nbconvert_exporter": "python",
   "pygments_lexer": "ipython3",
   "version": "3.6.5"
  }
 },
 "nbformat": 4,
 "nbformat_minor": 2
}
