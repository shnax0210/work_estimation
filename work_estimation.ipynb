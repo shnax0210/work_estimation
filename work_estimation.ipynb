{
 "cells": [
  {
   "cell_type": "code",
   "execution_count": 1,
   "metadata": {},
   "outputs": [],
   "source": [
    "import networkx as nx\n",
    "import matplotlib.pyplot as plt\n",
    "import pandas as pd\n",
    "import numpy as np\n",
    "import scipy.stats as stats\n",
    "\n",
    "import graph_factory\n",
    "import work_emulator\n",
    "import normal_distribution_printer\n",
    "import monte_carlo_simulation\n",
    "import data_preprocessing\n",
    "\n",
    "%matplotlib inline"
   ]
  },
  {
   "cell_type": "code",
   "execution_count": 2,
   "metadata": {},
   "outputs": [],
   "source": [
    "def emulate(file_with_tasks, number_of_devs):\n",
    "    df = pd.read_csv(file_with_tasks, encoding = \"ISO-8859-1\")\n",
    "    \n",
    "    estimated_G = graph_factory.build_graph(data_preprocessing.filter_estimated_tasks(df))\n",
    "    estimated_df = data_preprocessing.prepare_data_for_calculation_of_normal(df)\n",
    "    \n",
    "    print('===================================================================================')\n",
    "    print('====================Emulation with only normal estimation usage====================')\n",
    "    print('===================================================================================')\n",
    "    print(work_emulator.calculate_requered_days(number_of_devs, estimated_df.values, estimated_G, True))\n",
    "    \n",
    "    full_estimated_df = data_preprocessing.prepare_data_with_all_estimations(df)\n",
    "    generations_result = monte_carlo_simulation.run_simulation(number_of_devs, 100, full_estimated_df, estimated_G)\n",
    "    \n",
    "    total_mean = np.mean(generations_result)\n",
    "    total_std = np.std(generations_result)\n",
    "    \n",
    "    print('===================================================================================')\n",
    "    print('==============================Monte Carlo emulation================================')\n",
    "    print('===================================================================================')\n",
    "    normal_distribution_printer.print_normal_cumulative_distribution(total_mean, total_std, 'Monte Carlo emulation')"
   ]
  },
  {
   "cell_type": "code",
   "execution_count": null,
   "metadata": {},
   "outputs": [],
   "source": [
    "emulate(file_with_tasks='tasks.csv', number_of_devs=5)"
   ]
  },
  {
   "cell_type": "code",
   "execution_count": null,
   "metadata": {},
   "outputs": [],
   "source": [
    ""
   ]
  }
 ],
 "metadata": {
  "kernelspec": {
   "display_name": "Python 3",
   "language": "python",
   "name": "python3"
  },
  "language_info": {
   "codemirror_mode": {
    "name": "ipython",
    "version": 3.0
   },
   "file_extension": ".py",
   "mimetype": "text/x-python",
   "name": "python",
   "nbconvert_exporter": "python",
   "pygments_lexer": "ipython3",
   "version": "3.6.5"
  }
 },
 "nbformat": 4,
 "nbformat_minor": 0
}