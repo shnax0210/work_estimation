{
 "cells": [
  {
   "cell_type": "code",
   "execution_count": 1,
   "metadata": {},
   "outputs": [],
   "source": [
    "import networkx as nx\n",
    "import matplotlib.pyplot as plt\n",
    "import pandas as pd\n",
    "import numpy as np\n",
    "import scipy.stats as stats\n",
    "\n",
    "import graph_factory\n",
    "import work_emulator\n",
    "import normal_distribution_printer\n",
    "import monte_carlo_simulation\n",
    "import data_preprocessing\n",
    "\n",
    "%matplotlib inline"
   ]
  },
  {
   "cell_type": "code",
   "execution_count": 19,
   "metadata": {},
   "outputs": [],
   "source": [
    "def emulate(file_with_tasks, number_of_devs):\n",
    "    df = pd.read_csv(file_with_tasks, encoding = \"ISO-8859-1\")\n",
    "    df1 = df.replace(np.nan, '', regex=True)\n",
    "    \n",
    "    estimated_G = graph_factory.build_graph(data_preprocessing.filter_estimated_tasks(df))\n",
    "    estimated_df = data_preprocessing.prepare_data_for_calculation_of_normal(df)\n",
    "    \n",
    "    print('===================================================================================')\n",
    "    print('====================Emulation with only normal estimation usage====================')\n",
    "    print('===================================================================================')\n",
    "    print(work_emulator.calculate_requered_days(NUMBER_OF_DEVS, estimated_df.values, estimated_G, True))\n",
    "    \n",
    "    full_estimated_df = data_preprocessing.prepare_data_with_all_estimations(df)\n",
    "    generations_result = monte_carlo_simulation.run_simulation(NUMBER_OF_DEVS, 100, full_estimated_df, estimated_G)\n",
    "    \n",
    "    total_mean = np.mean(generations_result)\n",
    "    total_std = np.std(generations_result)\n",
    "    \n",
    "    print('===================================================================================')\n",
    "    print('==============================Monte Carlo emulation================================')\n",
    "    print('===================================================================================')\n",
    "    normal_distribution_printer.print_normal_cumulative_distribution(total_mean, total_std, 'Total')"
   ]
  },
  {
   "cell_type": "code",
   "execution_count": 20,
   "metadata": {},
   "outputs": [
    {
     "name": "stdout",
     "output_type": "stream",
     "text": [
      "===================================================================================\n",
      "====================Emulation with only normal estimation usage====================\n",
      "===================================================================================\n",
      "set()\n",
      "{'TASK-12', 'TASK-17', 'TASK-11', 'TASK-6', 'TASK-5', 'TASK-16', 'TASK-1'}\n",
      "{'TASK-12', 'TASK-17', 'TASK-11', 'TASK-6', 'TASK-5', 'TASK-16', 'TASK-1'}\n",
      "{'TASK-12', 'TASK-17', 'TASK-11', 'TASK-5', 'TASK-16', 'TASK-1'}\n",
      "{'TASK-11', 'TASK-5', 'TASK-16', 'TASK-1'}\n",
      "{'TASK-11', 'TASK-5', 'TASK-16', 'TASK-1'}\n",
      "{'TASK-2', 'TASK-5', 'TASK-3', 'TASK-16'}\n",
      "{'TASK-2', 'TASK-5', 'TASK-3', 'TASK-16'}\n",
      "{'TASK-2', 'TASK-5', 'TASK-3', 'TASK-16'}\n",
      "{'TASK-19', 'TASK-5', 'TASK-3'}\n",
      "{'TASK-19', 'TASK-5', 'TASK-3'}\n",
      "{'TASK-19', 'TASK-5', 'TASK-3'}\n",
      "{'TASK-5', 'TASK-3'}\n",
      "{'TASK-5', 'TASK-3'}\n",
      "{'TASK-4', 'TASK-5'}\n",
      "{'TASK-4', 'TASK-5'}\n",
      "{'TASK-4', 'TASK-5'}\n",
      "{'TASK-4', 'TASK-5'}\n",
      "{'TASK-4', 'TASK-5'}\n",
      "{'TASK-4', 'TASK-5'}\n",
      "{'TASK-4', 'TASK-5'}\n",
      "{'TASK-7', 'TASK-4', 'TASK-13'}\n",
      "{'TASK-7', 'TASK-4', 'TASK-13'}\n",
      "{'TASK-7', 'TASK-4', 'TASK-13'}\n",
      "{'TASK-7', 'TASK-4', 'TASK-13'}\n",
      "{'TASK-7', 'TASK-4', 'TASK-13'}\n",
      "{'TASK-4', 'TASK-9', 'TASK-8', 'TASK-13'}\n",
      "{'TASK-9', 'TASK-8', 'TASK-13'}\n",
      "{'TASK-9', 'TASK-8', 'TASK-13'}\n",
      "{'TASK-9', 'TASK-8'}\n",
      "{'TASK-9', 'TASK-8'}\n",
      "{'TASK-10', 'TASK-18', 'TASK-8'}\n",
      "{'TASK-10', 'TASK-18', 'TASK-8'}\n",
      "{'TASK-10', 'TASK-18', 'TASK-8'}\n",
      "{'TASK-10', 'TASK-14', 'TASK-18'}\n",
      "{'TASK-10', 'TASK-14', 'TASK-18'}\n",
      "{'TASK-10', 'TASK-14'}\n",
      "{'TASK-10', 'TASK-14'}\n",
      "{'TASK-10', 'TASK-14'}\n",
      "{'TASK-10', 'TASK-14'}\n",
      "{'TASK-10', 'TASK-14'}\n",
      "{'TASK-10', 'TASK-14'}\n",
      "{'TASK-10', 'TASK-14'}\n",
      "{'TASK-10', 'TASK-14'}\n",
      "{'TASK-10', 'TASK-14'}\n",
      "{'TASK-10', 'TASK-14'}\n",
      "{'TASK-10', 'TASK-14'}\n",
      "{'TASK-10', 'TASK-14'}\n",
      "{'TASK-10', 'TASK-14'}\n",
      "{'TASK-10', 'TASK-14'}\n",
      "{'TASK-10', 'TASK-14'}\n",
      "{'TASK-14'}\n",
      "{'TASK-14'}\n",
      "{'TASK-14'}\n",
      "{'TASK-15'}\n",
      "{'TASK-15'}\n",
      "{'TASK-15'}\n",
      "{'TASK-15'}\n",
      "{'TASK-15'}\n",
      "59\n",
      "===================================================================================\n",
      "==============================Monte Carlo emulation================================\n",
      "===================================================================================\n",
      "mean = 71.44\n",
      "std = 9.766596131713444\n"
     ]
    },
    {
     "data": {
      "image/png": "[encoded data removed]",
      "text/plain": [
       "<Figure size 864x432 with 1 Axes>"
      ]
     },
     "metadata": {},
     "output_type": "display_data"
    }
   ],
   "source": [
    "emulate(file_with_tasks='tasks.csv', number_of_devs=10)"
   ]
  },
  {
   "cell_type": "code",
   "execution_count": null,
   "metadata": {},
   "outputs": [],
   "source": []
  }
 ],
 "metadata": {
  "kernelspec": {
   "display_name": "Python 3",
   "language": "python",
   "name": "python3"
  },
  "language_info": {
   "codemirror_mode": {
    "name": "ipython",
    "version": 3
   },
   "file_extension": ".py",
   "mimetype": "text/x-python",
   "name": "python",
   "nbconvert_exporter": "python",
   "pygments_lexer": "ipython3",
   "version": "3.6.5"
  }
 },
 "nbformat": 4,
 "nbformat_minor": 2
}
